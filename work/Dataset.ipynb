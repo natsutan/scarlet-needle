{
 "cells": [
  {
   "cell_type": "code",
   "execution_count": 1,
   "metadata": {},
   "outputs": [
    {
     "name": "stderr",
     "output_type": "stream",
     "text": [
      "C:\\Anaconda3\\lib\\site-packages\\h5py\\__init__.py:36: FutureWarning: Conversion of the second argument of issubdtype from `float` to `np.floating` is deprecated. In future, it will be treated as `np.float64 == np.dtype(float).type`.\n",
      "  from ._conv import register_converters as _register_converters\n"
     ]
    }
   ],
   "source": [
    "# detasetの勉強\n",
    "import tensorflow as tf\n",
    "import tensorflow.contrib.eager as tfe\n",
    "\n",
    "tfe.enable_eager_execution()\n"
   ]
  },
  {
   "cell_type": "code",
   "execution_count": 61,
   "metadata": {},
   "outputs": [],
   "source": [
    "def parse_csv(line):\n",
    "    [text, num] = line.decode().split(',')\n",
    "    num = int(num)\n",
    "    return text, num\n"
   ]
  },
  {
   "cell_type": "code",
   "execution_count": null,
   "metadata": {},
   "outputs": [],
   "source": []
  },
  {
   "cell_type": "code",
   "execution_count": 62,
   "metadata": {},
   "outputs": [],
   "source": [
    "dataset = tf.data.TextLineDataset('test.csv')\n",
    "dataset = dataset.map(lambda x: tf.py_func(parse_csv, [x], [tf.string, tf.int32]))"
   ]
  },
  {
   "cell_type": "code",
   "execution_count": 63,
   "metadata": {},
   "outputs": [
    {
     "name": "stdout",
     "output_type": "stream",
     "text": [
      "(<class 'tensorflow.python.framework.ops.Tensor'>, <class 'tensorflow.python.framework.ops.Tensor'>)\n",
      "(TensorShape(None), TensorShape(None))\n",
      "(tf.string, tf.int32)\n"
     ]
    }
   ],
   "source": [
    "print(dataset.output_classes)\n",
    "print(dataset.output_shapes)\n",
    "print(dataset.output_types)"
   ]
  },
  {
   "cell_type": "code",
   "execution_count": 64,
   "metadata": {},
   "outputs": [],
   "source": [
    "# iteratorの取得\n",
    "it = dataset.__iter__()"
   ]
  },
  {
   "cell_type": "code",
   "execution_count": 65,
   "metadata": {},
   "outputs": [
    {
     "name": "stdout",
     "output_type": "stream",
     "text": [
      "(<tf.Tensor: id=165, shape=(), dtype=string, numpy=b'aaa'>, <tf.Tensor: id=166, shape=(), dtype=int32, numpy=1>)\n",
      "(<tf.Tensor: id=169, shape=(), dtype=string, numpy=b'bbb'>, <tf.Tensor: id=170, shape=(), dtype=int32, numpy=2>)\n",
      "(<tf.Tensor: id=173, shape=(), dtype=string, numpy=b'ccc'>, <tf.Tensor: id=174, shape=(), dtype=int32, numpy=3>)\n",
      "(<tf.Tensor: id=177, shape=(), dtype=string, numpy=b'ddd'>, <tf.Tensor: id=178, shape=(), dtype=int32, numpy=4>)\n"
     ]
    }
   ],
   "source": [
    "for d in dataset:\n",
    "    print(d)"
   ]
  },
  {
   "cell_type": "code",
   "execution_count": 66,
   "metadata": {},
   "outputs": [],
   "source": [
    "dataset_batch = dataset.batch(2)"
   ]
  },
  {
   "cell_type": "code",
   "execution_count": 67,
   "metadata": {},
   "outputs": [
    {
     "data": {
      "text/plain": [
       "<BatchDataset shapes: (<unknown>, <unknown>), types: (tf.string, tf.int32)>"
      ]
     },
     "execution_count": 67,
     "metadata": {},
     "output_type": "execute_result"
    }
   ],
   "source": [
    "dataset_batch"
   ]
  },
  {
   "cell_type": "code",
   "execution_count": 72,
   "metadata": {},
   "outputs": [],
   "source": [
    "it_b = dataset_batch.__iter__()"
   ]
  },
  {
   "cell_type": "code",
   "execution_count": 73,
   "metadata": {},
   "outputs": [
    {
     "name": "stdout",
     "output_type": "stream",
     "text": [
      "(<tf.Tensor: id=215, shape=(2,), dtype=string, numpy=array([b'aaa', b'bbb'], dtype=object)>, <tf.Tensor: id=216, shape=(2,), dtype=int32, numpy=array([1, 2])>)\n",
      "(<tf.Tensor: id=219, shape=(2,), dtype=string, numpy=array([b'ccc', b'ddd'], dtype=object)>, <tf.Tensor: id=220, shape=(2,), dtype=int32, numpy=array([3, 4])>)\n"
     ]
    }
   ],
   "source": [
    "for i in it_b:\n",
    "    print(i)"
   ]
  },
  {
   "cell_type": "code",
   "execution_count": null,
   "metadata": {},
   "outputs": [],
   "source": []
  }
 ],
 "metadata": {
  "kernelspec": {
   "display_name": "Python 3",
   "language": "python",
   "name": "python3"
  },
  "language_info": {
   "codemirror_mode": {
    "name": "ipython",
    "version": 3
   },
   "file_extension": ".py",
   "mimetype": "text/x-python",
   "name": "python",
   "nbconvert_exporter": "python",
   "pygments_lexer": "ipython3",
   "version": "3.6.5"
  }
 },
 "nbformat": 4,
 "nbformat_minor": 2
}
